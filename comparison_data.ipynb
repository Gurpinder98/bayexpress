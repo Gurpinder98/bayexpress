{
 "cells": [
  {
   "cell_type": "markdown",
   "metadata": {},
   "source": [
    "# Y E A S T"
   ]
  },
  {
   "cell_type": "code",
   "execution_count": null,
   "metadata": {},
   "outputs": [],
   "source": [
    "import pandas as pd\n",
    "import numpy as np\n",
    "from numpy import random\n",
    "import scipy.special as sc\n",
    "import matplotlib as m\n",
    "import os"
   ]
  },
  {
   "cell_type": "markdown",
   "metadata": {},
   "source": [
    "## w i l d t y p e"
   ]
  },
  {
   "cell_type": "code",
   "execution_count": null,
   "metadata": {},
   "outputs": [],
   "source": [
    "# only those files which survived their consistency test in \n",
    "# 'Statistical models for RNA-seq data derived from a two-condition 48-replicate experiment' by Gierlinski et al. 2015\n",
    "\n",
    "# exluding reps { 21, 22, 25, 28, 34, 36 }\n",
    "\n",
    "WT_files = [\n",
    " 'WT_rep02_MID50_allLanes_tophat2.0.5.bam.gbgout',\n",
    " 'WT_rep03_MID51_allLanes_tophat2.0.5.bam.gbgout',\n",
    " 'WT_rep04_MID58_allLanes_tophat2.0.5.bam.gbgout',\n",
    " 'WT_rep05_MID93_allLanes_tophat2.0.5.bam.gbgout',\n",
    " 'WT_rep06_MID30_allLanes_tophat2.0.5.bam.gbgout',\n",
    " 'WT_rep07_MID24_allLanes_tophat2.0.5.bam.gbgout',\n",
    " 'WT_rep08_MID20_allLanes_tophat2.0.5.bam.gbgout',\n",
    " 'WT_rep09_MID91_allLanes_tophat2.0.5.bam.gbgout',\n",
    " 'WT_rep10_MID37_allLanes_tophat2.0.5.bam.gbgout',\n",
    " 'WT_rep11_MID54_allLanes_tophat2.0.5.bam.gbgout',\n",
    " 'WT_rep12_MID03_allLanes_tophat2.0.5.bam.gbgout',\n",
    " 'WT_rep13_MID45_allLanes_tophat2.0.5.bam.gbgout',\n",
    " 'WT_rep14_MID52_allLanes_tophat2.0.5.bam.gbgout',\n",
    " 'WT_rep15_MID09_allLanes_tophat2.0.5.bam.gbgout',\n",
    " 'WT_rep16_MID92_allLanes_tophat2.0.5.bam.gbgout',\n",
    " 'WT_rep17_MID66_allLanes_tophat2.0.5.bam.gbgout',\n",
    " 'WT_rep18_MID48_allLanes_tophat2.0.5.bam.gbgout',\n",
    " 'WT_rep19_MID83_allLanes_tophat2.0.5.bam.gbgout',\n",
    " 'WT_rep20_MID90_allLanes_tophat2.0.5.bam.gbgout',\n",
    " 'WT_rep23_MID36_allLanes_tophat2.0.5.bam.gbgout',\n",
    " 'WT_rep24_MID69_allLanes_tophat2.0.5.bam.gbgout',\n",
    " 'WT_rep26_MID08_allLanes_tophat2.0.5.bam.gbgout',\n",
    " 'WT_rep27_MID41_allLanes_tophat2.0.5.bam.gbgout',\n",
    " 'WT_rep29_MID68_allLanes_tophat2.0.5.bam.gbgout',\n",
    " 'WT_rep30_MID27_allLanes_tophat2.0.5.bam.gbgout',\n",
    " 'WT_rep31_MID43_allLanes_tophat2.0.5.bam.gbgout',\n",
    " 'WT_rep32_MID95_allLanes_tophat2.0.5.bam.gbgout',\n",
    " 'WT_rep33_MID88_allLanes_tophat2.0.5.bam.gbgout',\n",
    " 'WT_rep35_MID32_allLanes_tophat2.0.5.bam.gbgout',\n",
    " 'WT_rep37_MID07_allLanes_tophat2.0.5.bam.gbgout',\n",
    " 'WT_rep38_MID87_allLanes_tophat2.0.5.bam.gbgout',\n",
    " 'WT_rep39_MID05_allLanes_tophat2.0.5.bam.gbgout',\n",
    " 'WT_rep40_MID18_allLanes_tophat2.0.5.bam.gbgout',\n",
    " 'WT_rep41_MID13_allLanes_tophat2.0.5.bam.gbgout',\n",
    " 'WT_rep42_MID10_allLanes_tophat2.0.5.bam.gbgout',\n",
    " 'WT_rep43_MID49_allLanes_tophat2.0.5.bam.gbgout',\n",
    " 'WT_rep44_MID22_allLanes_tophat2.0.5.bam.gbgout',\n",
    " 'WT_rep45_MID44_allLanes_tophat2.0.5.bam.gbgout',\n",
    " 'WT_rep46_MID94_allLanes_tophat2.0.5.bam.gbgout',\n",
    " 'WT_rep47_MID17_allLanes_tophat2.0.5.bam.gbgout',\n",
    " 'WT_rep48_MID85_allLanes_tophat2.0.5.bam.gbgout']"
   ]
  },
  {
   "cell_type": "code",
   "execution_count": null,
   "metadata": {},
   "outputs": [],
   "source": [
    "WT_yeast = pd.read_csv('WT_countdata/WT_rep01_MID39_allLanes_tophat2.0.5.bam.gbgout', sep='\\t', names = ['genes', '1']) \n",
    "\n",
    "r = 1\n",
    "\n",
    "for filename in WT_files[:]:\n",
    "    r += 1\n",
    "    WT_yeast = WT_yeast.merge(pd.read_csv('WT_countdata/'+filename, sep='\\t', names = ['genes', f'{r}']), left_on='genes', right_on='genes')\n",
    "\n",
    "WT_yeast = WT_yeast[:-5]\n",
    "\n",
    "WT_yeast.to_csv('WT_yeast.csv')\n",
    "\n",
    "\n",
    "WT_yeast"
   ]
  },
  {
   "cell_type": "markdown",
   "metadata": {},
   "source": [
    "## S n f 2"
   ]
  },
  {
   "cell_type": "code",
   "execution_count": null,
   "metadata": {},
   "outputs": [],
   "source": [
    "# only those files which survived their consistency test in \n",
    "# 'Statistical models for RNA-seq data derived from a two-condition 48-replicate experiment' by Gierlinski et al. 2015\n",
    "\n",
    "# exluding reps { 6, 13, 25, 35 }\n",
    "\n",
    "Snf2_files = [\n",
    "'Snf2_rep02_MID21_allLanes_tophat2.0.5.bam.gbgout',\n",
    "'Snf2_rep03_MID28_allLanes_tophat2.0.5.bam.gbgout',\n",
    "'Snf2_rep04_MID11_allLanes_tophat2.0.5.bam.gbgout',\n",
    "'Snf2_rep05_MID82_allLanes_tophat2.0.5.bam.gbgout',\n",
    "'Snf2_rep07_MID26_allLanes_tophat2.0.5.bam.gbgout',\n",
    "'Snf2_rep08_MID78_allLanes_tophat2.0.5.bam.gbgout',\n",
    "'Snf2_rep09_MID04_allLanes_tophat2.0.5.bam.gbgout',\n",
    "'Snf2_rep10_MID38_allLanes_tophat2.0.5.bam.gbgout',\n",
    "'Snf2_rep11_MID01_allLanes_tophat2.0.5.bam.gbgout',\n",
    "'Snf2_rep12_MID02_allLanes_tophat2.0.5.bam.gbgout',\n",
    "'Snf2_rep14_MID33_allLanes_tophat2.0.5.bam.gbgout',\n",
    "'Snf2_rep15_MID75_allLanes_tophat2.0.5.bam.gbgout',\n",
    "'Snf2_rep16_MID72_allLanes_tophat2.0.5.bam.gbgout',\n",
    "'Snf2_rep17_MID89_allLanes_tophat2.0.5.bam.gbgout',\n",
    "'Snf2_rep18_MID40_allLanes_tophat2.0.5.bam.gbgout',\n",
    "'Snf2_rep19_MID84_allLanes_tophat2.0.5.bam.gbgout',\n",
    "'Snf2_rep20_MID15_allLanes_tophat2.0.5.bam.gbgout',\n",
    "'Snf2_rep21_MID31_allLanes_tophat2.0.5.bam.gbgout',\n",
    "'Snf2_rep22_MID53_allLanes_tophat2.0.5.bam.gbgout',\n",
    "'Snf2_rep23_MID25_allLanes_tophat2.0.5.bam.gbgout',\n",
    "'Snf2_rep24_MID42_allLanes_tophat2.0.5.bam.gbgout',\n",
    "'Snf2_rep26_MID71_allLanes_tophat2.0.5.bam.gbgout',\n",
    "'Snf2_rep27_MID34_allLanes_tophat2.0.5.bam.gbgout',\n",
    "'Snf2_rep28_MID74_allLanes_tophat2.0.5.bam.gbgout',\n",
    "'Snf2_rep29_MID57_allLanes_tophat2.0.5.bam.gbgout',\n",
    "'Snf2_rep30_MID16_allLanes_tophat2.0.5.bam.gbgout',\n",
    "'Snf2_rep31_MID77_allLanes_tophat2.0.5.bam.gbgout',\n",
    "'Snf2_rep32_MID70_allLanes_tophat2.0.5.bam.gbgout',\n",
    "'Snf2_rep33_MID29_allLanes_tophat2.0.5.bam.gbgout',\n",
    "'Snf2_rep34_MID14_allLanes_tophat2.0.5.bam.gbgout',\n",
    "'Snf2_rep36_MID23_allLanes_tophat2.0.5.bam.gbgout',\n",
    "'Snf2_rep37_MID46_allLanes_tophat2.0.5.bam.gbgout',\n",
    "'Snf2_rep38_MID06_allLanes_tophat2.0.5.bam.gbgout',\n",
    "'Snf2_rep39_MID19_allLanes_tophat2.0.5.bam.gbgout',\n",
    "'Snf2_rep40_MID12_allLanes_tophat2.0.5.bam.gbgout',\n",
    "'Snf2_rep41_MID79_allLanes_tophat2.0.5.bam.gbgout',\n",
    "'Snf2_rep42_MID47_allLanes_tophat2.0.5.bam.gbgout',\n",
    "'Snf2_rep43_MID73_allLanes_tophat2.0.5.bam.gbgout',\n",
    "'Snf2_rep44_MID65_allLanes_tophat2.0.5.bam.gbgout',\n",
    "'Snf2_rep45_MID86_allLanes_tophat2.0.5.bam.gbgout',\n",
    "'Snf2_rep46_MID35_allLanes_tophat2.0.5.bam.gbgout',\n",
    "'Snf2_rep47_MID56_allLanes_tophat2.0.5.bam.gbgout',\n",
    "'Snf2_rep48_MID55_allLanes_tophat2.0.5.bam.gbgout'\n",
    "]"
   ]
  },
  {
   "cell_type": "code",
   "execution_count": null,
   "metadata": {},
   "outputs": [],
   "source": [
    "Snf2_yeast = pd.read_csv('Snf2_countdata/Snf2_rep01_MID96_allLanes_tophat2.0.5.bam.gbgout', sep='\\t', names = ['genes', '1']) \n",
    "\n",
    "r = 1\n",
    "\n",
    "for filename in Snf2_files[:]:\n",
    "    r += 1\n",
    "    Snf2_yeast = Snf2_yeast.merge(pd.read_csv('Snf2_countdata/'+filename, sep='\\t', names = ['genes', f'{r}']), left_on='genes', right_on='genes')\n",
    "\n",
    "Snf2_yeast = Snf2_yeast[:-5]\n",
    "\n",
    "\n",
    "Snf2_yeast.to_csv('Snf2_yeast.csv')\n",
    "\n",
    "\n",
    "Snf2_yeast"
   ]
  },
  {
   "cell_type": "markdown",
   "metadata": {},
   "source": [
    "#### 100 boostrap iterations á #reps ∈ {3,6,12,20}"
   ]
  },
  {
   "cell_type": "code",
   "execution_count": null,
   "metadata": {},
   "outputs": [],
   "source": [
    "import random"
   ]
  },
  {
   "cell_type": "code",
   "execution_count": null,
   "metadata": {},
   "outputs": [],
   "source": [
    "# for 3 reps per experiment\n",
    "\n",
    "for i in range(1,101):\n",
    "\n",
    "    data = pd.DataFrame({'locus_name': WT_yeast.genes})\n",
    "\n",
    "    # selecting the reps for this round\n",
    "    # drawing from 42 in WT and 45 in Snf2\n",
    "    # without replacement!\n",
    "    \n",
    "    WT_REPS = [str(x) for x in (random.sample([*range(1,43)], k=3))]\n",
    "    Snf2_REPS = [str(x) for x in (random.sample([*range(1,45)], k=3))]\n",
    "\n",
    "    data = pd.concat([data, WT_yeast[WT_REPS], Snf2_yeast[Snf2_REPS]], axis=1).set_index('locus_name')\n",
    "\n",
    "    data.to_csv(f\"3R_100/R3_{i}.csv\")\n",
    "    \n"
   ]
  },
  {
   "cell_type": "code",
   "execution_count": null,
   "metadata": {},
   "outputs": [],
   "source": [
    "# for 6 reps per experiment\n",
    "\n",
    "for i in range(1,101):\n",
    "    \n",
    "    data = pd.DataFrame({'locus_name': WT_yeast.genes})\n",
    "\n",
    "    # selecting the reps for this round\n",
    "    # drawing from 42 in WT and 45 in Snf2\n",
    "    # without replacement!\n",
    "    \n",
    "    WT_REPS = [str(x) for x in (random.sample([*range(1,43)], k=6))]\n",
    "    Snf2_REPS = [str(x) for x in (random.sample([*range(1,45)], k=6))]\n",
    "\n",
    "\n",
    "    data = pd.concat([data, WT_yeast[WT_REPS], Snf2_yeast[Snf2_REPS]], axis=1).set_index('locus_name')\n",
    "\n",
    "    data.to_csv(f\"6R_100/R6_{i}.csv\")\n"
   ]
  },
  {
   "cell_type": "code",
   "execution_count": null,
   "metadata": {},
   "outputs": [],
   "source": [
    "# for 12 reps per experiment\n",
    "\n",
    "for i in range(1,101):\n",
    "\n",
    "    data = pd.DataFrame({'locus_name': WT_yeast.genes})\n",
    "\n",
    "    # selecting the reps for this round\n",
    "    # drawing from 42 in WT and 45 in Snf2\n",
    "    # without replacement!\n",
    "    \n",
    "    WT_REPS = [str(x) for x in (random.sample([*range(1,43)], k=12))]\n",
    "    Snf2_REPS = [str(x) for x in (random.sample([*range(1,45)], k=12))]\n",
    "\n",
    "\n",
    "    data = pd.concat([data, WT_yeast[WT_REPS], Snf2_yeast[Snf2_REPS]], axis=1).set_index('locus_name')\n",
    "\n",
    "    data.to_csv(f\"12R_100/R12_{i}.csv\")"
   ]
  },
  {
   "cell_type": "code",
   "execution_count": null,
   "metadata": {},
   "outputs": [],
   "source": [
    "# for 20 reps per experiment\n",
    "\n",
    "\n",
    "for i in range(1,101):\n",
    "\n",
    "    data = pd.DataFrame({'locus_name': WT_yeast.genes})\n",
    "\n",
    "    # selecting the reps for this round\n",
    "    # drawing from 42 in WT and 45 in Snf2\n",
    "    # without replacement!\n",
    "    \n",
    "    WT_REPS = [str(x) for x in (random.sample([*range(1,43)], k=20))]\n",
    "    Snf2_REPS = [str(x) for x in (random.sample([*range(1,45)], k=20))]\n",
    "\n",
    "\n",
    "    data = pd.concat([data, WT_yeast[WT_REPS], Snf2_yeast[Snf2_REPS]], axis=1).set_index('locus_name')\n",
    "\n",
    "    data.to_csv(f\"20R_100/R20_{i}.csv\")"
   ]
  },
  {
   "cell_type": "markdown",
   "metadata": {},
   "source": [
    "# all replicates"
   ]
  },
  {
   "cell_type": "code",
   "execution_count": null,
   "metadata": {},
   "outputs": [],
   "source": [
    "# all replicates together\n",
    "\n",
    "data = pd.concat([WT_yeast, Snf2_yeast.iloc[:,1:]], axis=1).set_index('genes')\n",
    "\n",
    "data.to_csv(f\"RALL.csv\")\n",
    "data"
   ]
  },
  {
   "cell_type": "markdown",
   "metadata": {},
   "source": [
    "# m e t a d a t a"
   ]
  },
  {
   "cell_type": "code",
   "execution_count": null,
   "metadata": {},
   "outputs": [],
   "source": [
    "# DESeq2 needs meta data files \n",
    "\n",
    "\n",
    "# like this\n",
    "\n",
    "# locus_name,dex\n",
    "# n1_1,control\n",
    "# n1_2,control\n",
    "# n1_3,control\n",
    "# n2_1,treatment\n",
    "# n2_2,treatment\n",
    "# n2_3,treatment\n"
   ]
  },
  {
   "cell_type": "code",
   "execution_count": null,
   "metadata": {},
   "outputs": [],
   "source": [
    "# all reps\n",
    "\n",
    "METADATA_NAME = f\"RALL_meta.txt\"\n",
    "\n",
    "with open(METADATA_NAME, \"w\") as out_f: \n",
    "    out_f.write(f\"locus_name,dex\\n\")\n",
    "                \n",
    "    for i in range(1,43):\n",
    "        out_f.write(f\"n1_{i},control\\n\")\n",
    "                    \n",
    "    for i in range(1,45):\n",
    "        out_f.write(f\"n2_{i},treatment\\n\")\n",
    "\n",
    "    "
   ]
  },
  {
   "cell_type": "code",
   "execution_count": null,
   "metadata": {},
   "outputs": [],
   "source": []
  }
 ],
 "metadata": {
  "kernelspec": {
   "display_name": "pythonground",
   "language": "python",
   "name": "python3"
  },
  "language_info": {
   "codemirror_mode": {
    "name": "ipython",
    "version": 3
   },
   "file_extension": ".py",
   "mimetype": "text/x-python",
   "name": "python",
   "nbconvert_exporter": "python",
   "pygments_lexer": "ipython3",
   "version": "3.10.6"
  },
  "orig_nbformat": 4
 },
 "nbformat": 4,
 "nbformat_minor": 2
}
