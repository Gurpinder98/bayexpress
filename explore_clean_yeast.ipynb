{
 "cells": [
  {
   "cell_type": "markdown",
   "metadata": {},
   "source": [
    "# Y E A S T\n",
    "\n",
    "### 'fine replicates'"
   ]
  },
  {
   "cell_type": "code",
   "execution_count": null,
   "metadata": {},
   "outputs": [],
   "source": [
    "import pandas as pd\n",
    "import numpy as np\n",
    "import scipy.special as sc\n",
    "from scipy.stats import entropy, wasserstein_distance\n",
    "import matplotlib.pyplot as plt\n",
    "import matplotlib as m\n",
    "from sklearn.feature_selection import f_regression, mutual_info_regression"
   ]
  },
  {
   "cell_type": "code",
   "execution_count": null,
   "metadata": {},
   "outputs": [],
   "source": [
    "# basic bayexpress functions\n",
    "\n",
    "# assuming a flat prior (for now?)\n",
    "u_1 = 1\n",
    "u_2 = 1\n",
    "\n",
    "# calculating Bayes factors\n",
    "def get_BF(N_1, n_1, N_2, n_2):\n",
    "\n",
    "    return (sc.betaln( u_1 + n_1, u_2 + N_1 - n_1) + sc.betaln( u_1 + n_2, u_2 + N_2 - n_2) - sc.betaln( u_1 + n_1 + n_2, u_2 + N_1 - n_1 + N_2 - n_2)) / np.log(10) \n",
    "\n",
    "# ratio of expression \n",
    "# probably best to make it log2 to fit with most other software\n",
    "\n",
    "def get_FC(N_1, n_1, N_2, n_2):\n",
    "    rate_1 = (u_1 + n_1) / (u_2 + N_1 - n_1)\n",
    "    rate_2 = (u_1 + n_2) / (u_2 + N_2 - n_2)\n",
    "\n",
    "    return np.log2(rate_2 / rate_1)\n",
    "\n",
    "\n",
    "# assuming a flat prior (for now?)\n",
    "u_1 = 1\n",
    "u_2 = 1\n",
    "\n",
    "# calculating Bayes factors for consistency checks\n",
    "\n",
    "def get_BF_IC(data):\n",
    "    # this range is irrelevant if we want to do all \n",
    "    k = len(data.columns)\n",
    "\n",
    "    evidence2 = np.full(len(data), 0)\n",
    "\n",
    "    # iterating over j until k\n",
    "    for col in data.columns[1:k]: \n",
    "        n_j = data[col]\n",
    "        # print(n_j, 'n_j')\n",
    "        N_j = sum(data[col])\n",
    "        # print(N_j, 'N_j')\n",
    "        evidence2 = evidence2 + sc.betaln(u_1 + n_j, u_2 + N_j - n_j)\n",
    "\n",
    "    N = sum(data.iloc[:,1:k].sum(axis=0, numeric_only=True))\n",
    "    n_i = data.iloc[:,1:k].sum(axis=1, numeric_only=True)\n",
    "\n",
    "    # print(n_i, 'n_i')\n",
    "    # print(N, 'N')\n",
    "\n",
    "    evidence1 = sc.betaln( u_1 + n_i, u_2 + N - n_i)\n",
    "\n",
    "    return (evidence2 - evidence1) / np.log(10) \n"
   ]
  },
  {
   "cell_type": "code",
   "execution_count": null,
   "metadata": {},
   "outputs": [],
   "source": [
    "WT_yeast = pd.read_csv('WT_yeast.csv', index_col=0)\n",
    "Snf2_yeast = pd.read_csv('Snf2_yeast.csv', index_col=0)\n",
    "\n",
    "display(WT_yeast)\n",
    "display(Snf2_yeast)"
   ]
  },
  {
   "cell_type": "code",
   "execution_count": null,
   "metadata": {},
   "outputs": [],
   "source": [
    "\n",
    "# assuming a flat prior (for now?)\n",
    "u_1 = 1\n",
    "u_2 = 1\n",
    "\n",
    "# calculating Bayes factors for k number of reps\n",
    "\n",
    "def get_BF(data):\n",
    "    for k in range(3,43):\n",
    "\n",
    "        evidence2 = np.full(len(data), 0)\n",
    "\n",
    "        # iterating over j until k\n",
    "        for col in data.columns[1:k]: \n",
    "            n_j = data[col]\n",
    "            # print(n_j, 'n_j')\n",
    "            N_j = sum(data[col])\n",
    "            # print(N_j, 'N_j')\n",
    "            evidence2 = evidence2 + sc.betaln(u_1 + n_j, u_2 + N_j - n_j)\n",
    "\n",
    "        N = sum(data.iloc[:,1:k].sum(axis=0, numeric_only=True))\n",
    "        n_i = data.iloc[:,1:k].sum(axis=1, numeric_only=True)\n",
    "\n",
    "        # print(n_i, 'n_i')\n",
    "        # print(N, 'N')\n",
    "\n",
    "        evidence1 = sc.betaln( u_1 + n_i, u_2 + N - n_i)\n",
    "        \n",
    "        data[f'BF_{k-1}'] = (evidence2 - evidence1) / np.log(10) \n",
    "\n",
    "    return data\n",
    "\n",
    "\n",
    "# calculating average <q> for each additional replicate for the plots\n",
    "\n",
    "\n",
    "def get_avq(data):\n",
    "    output = pd.DataFrame({'genes': data.genes})\n",
    "    for k in range(2,len(data.columns)):\n",
    "\n",
    "        N = sum(data.iloc[:,1:k].sum(axis=0, numeric_only=True))\n",
    "\n",
    "        n_i = data.iloc[:,1:k].sum(axis=1, numeric_only=True)\n",
    "        \n",
    "        output[f'{k-1}'] = (n_i + 1) / (N+2)\n",
    "\n",
    "    return output\n",
    "\n",
    "\n",
    "# WT_yeast = get_BF(WT_yeast)\n",
    "\n",
    "# display(WT_yeast)\n",
    "\n",
    "# Snf2_yeast = get_BF(Snf2_yeast)\n",
    "\n",
    "# display(Snf2_yeast)\n",
    "\n",
    "WT_yeast_avq = get_avq(WT_yeast)\n",
    "\n",
    "display(WT_yeast_avq)\n",
    "\n",
    "\n",
    "Snf2_yeast_avq = get_avq(Snf2_yeast)\n",
    "\n",
    "display(Snf2_yeast_avq)\n"
   ]
  },
  {
   "cell_type": "code",
   "execution_count": null,
   "metadata": {},
   "outputs": [],
   "source": [
    "WT_yeast.sum(axis=0, numeric_only=True).describe()"
   ]
  },
  {
   "cell_type": "code",
   "execution_count": null,
   "metadata": {},
   "outputs": [],
   "source": [
    "WT_yeast.describe().iloc[:,:3]"
   ]
  },
  {
   "cell_type": "code",
   "execution_count": null,
   "metadata": {},
   "outputs": [],
   "source": [
    "WT_yeast_q = pd.DataFrame({})\n",
    "\n",
    "for col in WT_yeast.columns[1:43]:\n",
    "\n",
    "    WT_yeast_q[col+'_q'] = (WT_yeast[col]+1) / (sum(WT_yeast[col])+2)\n",
    "\n",
    "WT_yeast_q"
   ]
  },
  {
   "cell_type": "code",
   "execution_count": null,
   "metadata": {},
   "outputs": [],
   "source": [
    "Snf2_yeast_q = pd.DataFrame({})\n",
    "\n",
    "for col in Snf2_yeast.columns[1:43]:\n",
    "\n",
    "    Snf2_yeast_q[col+'_q'] = (Snf2_yeast[col]+1) / (sum(Snf2_yeast[col])+2)\n",
    "\n",
    "Snf2_yeast_q"
   ]
  },
  {
   "cell_type": "code",
   "execution_count": null,
   "metadata": {},
   "outputs": [],
   "source": [
    "WT_yeast_q.describe()"
   ]
  },
  {
   "cell_type": "code",
   "execution_count": null,
   "metadata": {},
   "outputs": [],
   "source": [
    "WT_yeast_q_stats = WT_yeast_q.transpose().describe()\n",
    "\n",
    "display(WT_yeast_q_stats)\n",
    "\n",
    "\n",
    "# ------------\n",
    "\n",
    "fig, ax = plt.subplots(dpi=300)\n",
    "\n",
    "ax.grid()\n",
    "ax.scatter(WT_yeast_q_stats.loc['mean'], WT_yeast_q_stats.loc['std'],\n",
    "            \n",
    "c='#332288', s=30, \n",
    "alpha=0.3, edgecolors='none')\n",
    "\n",
    "\n",
    "plt.show()\n",
    "\n",
    "# ------------\n",
    "\n",
    "fig, ax = plt.subplots(dpi=300)\n",
    "\n",
    "ax.grid()\n",
    "\n",
    "ax.set_xscale(\"log\", base=10)\n",
    "ax.set_yscale(\"log\", base=10)\n",
    "\n",
    "ax.set_xlabel('Mean q_i')\n",
    "ax.set_ylabel('Standard deviation q_i')\n",
    "\n",
    "ax.scatter(WT_yeast_q_stats.loc['mean'], WT_yeast_q_stats.loc['std'],\n",
    "            \n",
    "c='#332288', s=30,\n",
    "alpha=0.3, edgecolors='none')\n",
    "\n",
    "\n",
    "plt.show()\n",
    "\n",
    "# middle one exported as variability_WT.png for manuscript"
   ]
  },
  {
   "cell_type": "code",
   "execution_count": null,
   "metadata": {},
   "outputs": [],
   "source": [
    "Snf2_yeast_q_stats = Snf2_yeast_q.transpose().describe()\n",
    "\n",
    "display(Snf2_yeast_q_stats)\n",
    "\n",
    "\n",
    "# ------------\n",
    "\n",
    "fig, ax = plt.subplots(dpi=300)\n",
    "\n",
    "ax.grid()\n",
    "ax.scatter(Snf2_yeast_q_stats.loc['mean'], Snf2_yeast_q_stats.loc['std'],\n",
    "            \n",
    "c='#117733', s=30, \n",
    "alpha=0.3, edgecolors='none')\n",
    "\n",
    "\n",
    "plt.show()\n",
    "\n",
    "# ------------\n",
    "\n",
    "fig, ax = plt.subplots(dpi=300)\n",
    "\n",
    "ax.grid()\n",
    "\n",
    "ax.set_xscale(\"log\", base=10)\n",
    "ax.set_yscale(\"log\", base=10)\n",
    "\n",
    "ax.set_xlabel('Mean q_i')\n",
    "ax.set_ylabel('Standard deviation q_i')\n",
    "\n",
    "ax.scatter(Snf2_yeast_q_stats.loc['mean'], Snf2_yeast_q_stats.loc['std'],\n",
    "            \n",
    "c='#117733', s=30,\n",
    "alpha=0.3, edgecolors='none')\n",
    "\n",
    "\n",
    "\n",
    "# middle one exported as variability_Snf2.png for manuscript"
   ]
  },
  {
   "cell_type": "code",
   "execution_count": null,
   "metadata": {},
   "outputs": [],
   "source": [
    "# importing results from differential gene expression anaylsis\n",
    "RALL_bayexpress = pd.read_csv('RALL_bayexpress.csv', index_col=0)\n",
    "\n",
    "display(RALL_bayexpress)"
   ]
  },
  {
   "cell_type": "code",
   "execution_count": null,
   "metadata": {},
   "outputs": [],
   "source": [
    "# 'volcano plots' =  BF vs. iFC\n",
    "\n",
    "def get_denstiy_volcano(x, y):\n",
    "    \n",
    "    fig, ax = plt.subplots(figsize=(7,5), dpi=300)\n",
    "\n",
    "    plt.hist2d( x, y, bins=50, norm=m.colors.LogNorm(), cmap='plasma', \n",
    "                # range=[[1, 1100], [0.0, 0.0105]], \n",
    "                alpha=0.9)\n",
    "\n",
    "    plt.grid(color='black', linestyle='-', linewidth=0.7, alpha=0.5)\n",
    "    \n",
    "    cbar = plt.colorbar()\n",
    "\n",
    "    cbar.set_label('# of genes')\n",
    "\n",
    "    plt.xlabel('log10 Bayes factors')\n",
    "    plt.ylabel('inferred log2 fold change')\n",
    "\n",
    "    plt.show()\n",
    "\n",
    "# ------------\n",
    "\n",
    "fig, ax = plt.subplots(dpi=300)\n",
    "\n",
    "ax.grid()\n",
    "ax.scatter(RALL_bayexpress['BF'], RALL_bayexpress['FC'],\n",
    "            \n",
    "c='blue', s=10, \n",
    "alpha=0.3, edgecolors='none')\n",
    "\n",
    "\n",
    "plt.show()\n",
    "\n",
    "# ------------\n",
    "\n",
    "\n",
    "get_denstiy_volcano(RALL_bayexpress['BF'], RALL_bayexpress['FC'])\n",
    "get_denstiy_volcano(RALL_bayexpress.sort_values(by='BF')[:-100]['BF'], RALL_bayexpress.sort_values(by='BF')[:-100]['FC'])\n",
    "get_denstiy_volcano(RALL_bayexpress.sort_values(by='BF')[:-1000]['BF'], RALL_bayexpress.sort_values(by='BF')[:-1000]['FC'])\n",
    "\n",
    "# ------------\n",
    "\n",
    "fig, ax = plt.subplots(dpi=300)\n",
    "\n",
    "ax.grid()\n",
    "ax.scatter(RALL_bayexpress.sort_values(by='BF')[:-1000]['BF'], RALL_bayexpress.sort_values(by='BF')[:-1000]['FC'],\n",
    "            \n",
    "c='blue', s=10, \n",
    "alpha=0.3, edgecolors='none')\n",
    "\n",
    "\n",
    "plt.show()\n",
    "\n",
    "# ------------\n"
   ]
  },
  {
   "cell_type": "code",
   "execution_count": null,
   "metadata": {},
   "outputs": [],
   "source": [
    "results_RALL = pd.read_csv('results_RALL.csv', index_col=0)\n",
    "\n",
    "results_RALL"
   ]
  },
  {
   "cell_type": "markdown",
   "metadata": {},
   "source": [
    "### Examples for the paper"
   ]
  },
  {
   "cell_type": "code",
   "execution_count": null,
   "metadata": {},
   "outputs": [],
   "source": [
    "# lowest BF\n",
    "\n",
    "display(RALL_bayexpress.sort_values(by='BF')[:5])\n",
    "\n",
    "display(WT_yeast.set_index('genes').iloc[RALL_bayexpress.sort_values(by='BF')[:5].index])\n",
    "display(Snf2_yeast.set_index('genes').iloc[RALL_bayexpress.sort_values(by='BF')[:5].index])\n",
    "\n",
    "print(list(RALL_bayexpress.sort_values(by='BF')[:5].locus_name))\n"
   ]
  },
  {
   "cell_type": "code",
   "execution_count": null,
   "metadata": {},
   "outputs": [],
   "source": [
    "# low, but not lowest BF\n",
    "\n",
    "display(RALL_bayexpress.sort_values(by='BF')[1000:1005])\n",
    "\n",
    "display(WT_yeast.set_index('genes').iloc[RALL_bayexpress.sort_values(by='BF')[1000:1005].index])\n",
    "display(Snf2_yeast.set_index('genes').iloc[RALL_bayexpress.sort_values(by='BF')[1000:1005].index])\n",
    "\n",
    "print(list(RALL_bayexpress.sort_values(by='BF')[1000:1005].locus_name))\n"
   ]
  },
  {
   "cell_type": "code",
   "execution_count": null,
   "metadata": {},
   "outputs": [],
   "source": [
    "# highest BF\n",
    "\n",
    "display(RALL_bayexpress.sort_values(by='BF')[-5:])\n",
    "\n",
    "display(WT_yeast.set_index('genes').iloc[RALL_bayexpress.sort_values(by='BF')[-5:].index])\n",
    "display(Snf2_yeast.set_index('genes').iloc[RALL_bayexpress.sort_values(by='BF')[-5:].index])\n",
    "\n",
    "print(list(RALL_bayexpress.sort_values(by='BF')[-5:].locus_name))\n"
   ]
  },
  {
   "cell_type": "code",
   "execution_count": null,
   "metadata": {},
   "outputs": [],
   "source": [
    "# high, but not highest BF\n",
    "\n",
    "display(RALL_bayexpress.sort_values(by='BF')[5300:5305])\n",
    "\n",
    "display(WT_yeast.set_index('genes').iloc[RALL_bayexpress.sort_values(by='BF')[5300:5305].index])\n",
    "display(Snf2_yeast.set_index('genes').iloc[RALL_bayexpress.sort_values(by='BF')[5300:5305].index])\n",
    "\n",
    "print(list(RALL_bayexpress.sort_values(by='BF')[5300:5305].locus_name))\n"
   ]
  },
  {
   "cell_type": "code",
   "execution_count": null,
   "metadata": {},
   "outputs": [],
   "source": [
    "# high, but not highest BF 2\n",
    "\n",
    "display(RALL_bayexpress.sort_values(by='BF')[4000:4005])\n",
    "\n",
    "display(WT_yeast.set_index('genes').iloc[RALL_bayexpress.sort_values(by='BF')[4000:4005].index])\n",
    "display(Snf2_yeast.set_index('genes').iloc[RALL_bayexpress.sort_values(by='BF')[4000:4005].index])\n",
    "\n",
    "print(list(RALL_bayexpress.sort_values(by='BF')[4000:4005].locus_name))\n"
   ]
  },
  {
   "cell_type": "code",
   "execution_count": null,
   "metadata": {},
   "outputs": [],
   "source": [
    "# examples to discuss ...\n",
    "\n",
    "display(RALL_bayexpress.sort_values(by='BF')[2000:2005])\n",
    "\n",
    "display(WT_yeast.set_index('genes').iloc[RALL_bayexpress.sort_values(by='BF')[2000:2005].index])\n",
    "display(Snf2_yeast.set_index('genes').iloc[RALL_bayexpress.sort_values(by='BF')[2000:2005].index])\n",
    "\n",
    "print(list(RALL_bayexpress.sort_values(by='BF')[2000:2005].locus_name))"
   ]
  },
  {
   "cell_type": "code",
   "execution_count": null,
   "metadata": {},
   "outputs": [],
   "source": [
    "# around 0\n",
    "\n",
    "display(RALL_bayexpress.sort_values(by='BF')[1600:1605])\n",
    "\n",
    "display(WT_yeast.set_index('genes').iloc[RALL_bayexpress.sort_values(by='BF')[1600:1605].index])\n",
    "display(Snf2_yeast.set_index('genes').iloc[RALL_bayexpress.sort_values(by='BF')[1600:1605].index])\n",
    "\n",
    "print(list(RALL_bayexpress.sort_values(by='BF')[1600:1605].locus_name))\n"
   ]
  },
  {
   "cell_type": "code",
   "execution_count": null,
   "metadata": {},
   "outputs": [],
   "source": [
    "# where do the divisions get nice?\n",
    "\n",
    "display(RALL_bayexpress.sort_values(by='BF')[1900:1905])\n",
    "\n",
    "display(WT_yeast.set_index('genes').iloc[RALL_bayexpress.sort_values(by='BF')[1900:1905].index])\n",
    "display(Snf2_yeast.set_index('genes').iloc[RALL_bayexpress.sort_values(by='BF')[1900:1905].index])\n",
    "\n",
    "print(list(RALL_bayexpress.sort_values(by='BF')[1900:1905].locus_name))\n"
   ]
  },
  {
   "cell_type": "code",
   "execution_count": null,
   "metadata": {},
   "outputs": [],
   "source": [
    "# low, but not lowest BF\n",
    "\n",
    "display(RALL_bayexpress.sort_values(by='BF')[1000:1005])\n",
    "\n",
    "display(WT_yeast.set_index('genes').iloc[RALL_bayexpress.sort_values(by='BF')[1000:1005].index])\n",
    "display(Snf2_yeast.set_index('genes').iloc[RALL_bayexpress.sort_values(by='BF')[1000:1005].index])\n",
    "\n",
    "print(list(RALL_bayexpress.sort_values(by='BF')[1000:1005].locus_name))\n"
   ]
  },
  {
   "cell_type": "code",
   "execution_count": null,
   "metadata": {},
   "outputs": [],
   "source": [
    "# highest FC\n",
    "\n",
    "display(RALL_bayexpress.sort_values(by='FC')[-5:])\n",
    "\n",
    "display(WT_yeast.set_index('genes').iloc[RALL_bayexpress.sort_values(by='FC')[-5:].index])\n",
    "display(Snf2_yeast.set_index('genes').iloc[RALL_bayexpress.sort_values(by='FC')[-5:].index])\n",
    "\n",
    "print(list(RALL_bayexpress.sort_values(by='FC')[-5:].locus_name))\n"
   ]
  },
  {
   "cell_type": "code",
   "execution_count": null,
   "metadata": {},
   "outputs": [],
   "source": [
    "# fold change around 0\n",
    "\n",
    "display(RALL_bayexpress.sort_values(by='FC')[2000:2005])\n",
    "\n",
    "display(WT_yeast.set_index('genes').iloc[RALL_bayexpress.sort_values(by='FC')[2000:2005].index])\n",
    "display(Snf2_yeast.set_index('genes').iloc[RALL_bayexpress.sort_values(by='FC')[2000:2005].index])\n",
    "\n",
    "print(list(RALL_bayexpress.sort_values(by='FC')[2000:2005].locus_name))\n"
   ]
  },
  {
   "cell_type": "code",
   "execution_count": null,
   "metadata": {},
   "outputs": [],
   "source": [
    "# taking all replicates into account, which genes are only identified by bayexpress and not the other 2 packages?\n",
    "\n",
    "# Criteria (BF > 1) & (FC > 1), 138 genes\n",
    "\n",
    "# in collaboration with package_comparison_RALL.ipynb\n",
    "\n",
    "display(RALL_bayexpress.set_index('locus_name').loc[['YAL016C-B', 'YAL031W-A', 'YAR035W', 'YAR068W', 'YBR018C']])\n",
    "\n",
    "display(WT_yeast.set_index('genes').loc[['YAL016C-B', 'YAL031W-A', 'YAR035W', 'YAR068W', 'YBR018C']])\n",
    "display(Snf2_yeast.set_index('genes').loc[['YAL016C-B', 'YAL031W-A', 'YAR035W', 'YAR068W', 'YBR018C']])\n",
    "\n",
    "display(RALL_bayexpress.set_index('locus_name').loc[['YAL016C-B', 'YAL031W-A', 'YAR035W', 'YAR068W', 'YBR018C']])"
   ]
  },
  {
   "cell_type": "code",
   "execution_count": null,
   "metadata": {},
   "outputs": [],
   "source": [
    "# taking all replicates into account, which genes are only identified by bayexpress and not the other 2 packages?\n",
    "\n",
    "# Criteria (BF > 1) & (FC > 2)\n",
    "\n",
    "# in collaboration with package_comparison_RALL.ipynb\n",
    "\n",
    "display(RALL_bayexpress.set_index('locus_name').loc[['YCL048W', 'YFL058W', 'YGL034C', 'YHR007C-A', 'YIR017C', 'YJL077C',\n",
    "       'YJR078W', 'YJR095W', 'YKR039W', 'YLR307W', 'YMR323W', 'YOL166C',\n",
    "       'YOR100C', 'YPR077C', 'tM(CAU)P']])\n",
    "\n",
    "display(WT_yeast.set_index('genes').loc[['YCL048W', 'YFL058W', 'YGL034C', 'YHR007C-A', 'YIR017C', 'YJL077C',\n",
    "       'YJR078W', 'YJR095W', 'YKR039W', 'YLR307W', 'YMR323W', 'YOL166C',\n",
    "       'YOR100C', 'YPR077C', 'tM(CAU)P']])\n",
    "display(Snf2_yeast.set_index('genes').loc[['YCL048W', 'YFL058W', 'YGL034C', 'YHR007C-A', 'YIR017C', 'YJL077C',\n",
    "       'YJR078W', 'YJR095W', 'YKR039W', 'YLR307W', 'YMR323W', 'YOL166C',\n",
    "       'YOR100C', 'YPR077C', 'tM(CAU)P']])\n",
    "\n",
    "display(RALL_bayexpress.set_index('locus_name').loc[['YCL048W', 'YFL058W', 'YGL034C', 'YHR007C-A', 'YIR017C', 'YJL077C',\n",
    "       'YJR078W', 'YJR095W', 'YKR039W', 'YLR307W', 'YMR323W', 'YOL166C',\n",
    "       'YOR100C', 'YPR077C', 'tM(CAU)P']])\n",
    "\n",
    "print(['YCL048W', 'YFL058W', 'YGL034C', 'YHR007C-A', 'YIR017C', 'YJL077C',\n",
    "       'YJR078W', 'YJR095W', 'YKR039W', 'YLR307W', 'YMR323W', 'YOL166C',\n",
    "       'YOR100C', 'YPR077C', 'tM(CAU)P'])"
   ]
  },
  {
   "cell_type": "code",
   "execution_count": null,
   "metadata": {},
   "outputs": [],
   "source": [
    "# taking all replicates into account\n",
    "# which ones are positive in DESeq2 and edgeR but not bayexpress?\n",
    "\n",
    "# Criteria (BF > 1) & (FC > 2)\n",
    "\n",
    "# in collaboration with package_comparison_RALL.ipynb\n",
    "\n",
    "display(RALL_bayexpress.set_index('locus_name').loc[['YAL061W', 'YBL005W-B', 'YBR012W-B', 'YDR055W', 'YDR098C-B',\n",
    "       'YDR210C-D', 'YDR406W', 'YER160C', 'YFR053C', 'YFR055W', 'YGR161C-D',\n",
    "       'YHR214C-B', 'YIL119C', 'YKL062W', 'YKL109W', 'YLL053C', 'YLR035C-A',\n",
    "       'YLR058C', 'YLR258W', 'YLR327C', 'YLR346C', 'YNL284C-B', 'YOL155C',\n",
    "       'YOR142W-B', 'YOR273C', 'YPR149W']])\n",
    "\n",
    "display(WT_yeast.set_index('genes').loc[['YAL061W', 'YBL005W-B', 'YBR012W-B', 'YDR055W', 'YDR098C-B',\n",
    "       'YDR210C-D', 'YDR406W', 'YER160C', 'YFR053C', 'YFR055W', 'YGR161C-D',\n",
    "       'YHR214C-B', 'YIL119C', 'YKL062W', 'YKL109W', 'YLL053C', 'YLR035C-A',\n",
    "       'YLR058C', 'YLR258W', 'YLR327C', 'YLR346C', 'YNL284C-B', 'YOL155C',\n",
    "       'YOR142W-B', 'YOR273C', 'YPR149W']])\n",
    "display(Snf2_yeast.set_index('genes').loc[['YAL061W', 'YBL005W-B', 'YBR012W-B', 'YDR055W', 'YDR098C-B',\n",
    "       'YDR210C-D', 'YDR406W', 'YER160C', 'YFR053C', 'YFR055W', 'YGR161C-D',\n",
    "       'YHR214C-B', 'YIL119C', 'YKL062W', 'YKL109W', 'YLL053C', 'YLR035C-A',\n",
    "       'YLR058C', 'YLR258W', 'YLR327C', 'YLR346C', 'YNL284C-B', 'YOL155C',\n",
    "       'YOR142W-B', 'YOR273C', 'YPR149W']])\n",
    "\n",
    "display(RALL_bayexpress.set_index('locus_name').loc[['YAL061W', 'YBL005W-B', 'YBR012W-B', 'YDR055W', 'YDR098C-B',\n",
    "       'YDR210C-D', 'YDR406W', 'YER160C', 'YFR053C', 'YFR055W', 'YGR161C-D',\n",
    "       'YHR214C-B', 'YIL119C', 'YKL062W', 'YKL109W', 'YLL053C', 'YLR035C-A',\n",
    "       'YLR058C', 'YLR258W', 'YLR327C', 'YLR346C', 'YNL284C-B', 'YOL155C',\n",
    "       'YOR142W-B', 'YOR273C', 'YPR149W']])\n",
    "\n",
    "print(['YAL061W', 'YBL005W-B', 'YBR012W-B', 'YDR055W', 'YDR098C-B',\n",
    "       'YDR210C-D', 'YDR406W', 'YER160C', 'YFR053C', 'YFR055W', 'YGR161C-D',\n",
    "       'YHR214C-B', 'YIL119C', 'YKL062W', 'YKL109W', 'YLL053C', 'YLR035C-A',\n",
    "       'YLR058C', 'YLR258W', 'YLR327C', 'YLR346C', 'YNL284C-B', 'YOL155C',\n",
    "       'YOR142W-B', 'YOR273C', 'YPR149W'])"
   ]
  },
  {
   "cell_type": "code",
   "execution_count": null,
   "metadata": {},
   "outputs": [],
   "source": [
    "WT_yeast"
   ]
  },
  {
   "cell_type": "code",
   "execution_count": null,
   "metadata": {},
   "outputs": [],
   "source": [
    "sc.kl_div(list(WT_yeast.iloc[0,1:]), list(Snf2_yeast.iloc[0,3:]))"
   ]
  },
  {
   "cell_type": "code",
   "execution_count": null,
   "metadata": {},
   "outputs": [],
   "source": [
    "wasserstein_distance(list(WT_yeast.iloc[0,1:]), list(Snf2_yeast.iloc[0,3:]))"
   ]
  },
  {
   "cell_type": "code",
   "execution_count": null,
   "metadata": {},
   "outputs": [],
   "source": [
    "RALL_bayexpress"
   ]
  },
  {
   "cell_type": "code",
   "execution_count": null,
   "metadata": {},
   "outputs": [],
   "source": [
    "RALL_bayexpress['W'] = [wasserstein_distance(list(WT_yeast.iloc[i,1:]), list(Snf2_yeast.iloc[i,3:])) for i in range(len(RALL_bayexpress))]\n",
    "\n",
    "RALL_bayexpress"
   ]
  },
  {
   "cell_type": "code",
   "execution_count": null,
   "metadata": {},
   "outputs": [],
   "source": [
    "\n",
    "fig, ax = plt.subplots(dpi=300)\n",
    "\n",
    "ax.grid()\n",
    "ax.scatter(RALL_bayexpress['W'], RALL_bayexpress['BF'],\n",
    "            \n",
    "c='blue', s=10, \n",
    "alpha=0.3, edgecolors='none')\n",
    "\n",
    "ax.set_xscale(\"log\", base=10)\n",
    "\n",
    "plt.show()"
   ]
  },
  {
   "cell_type": "code",
   "execution_count": null,
   "metadata": {},
   "outputs": [],
   "source": [
    "\n",
    "fig, ax = plt.subplots(dpi=300)\n",
    "\n",
    "ax.grid()\n",
    "ax.scatter(RALL_bayexpress.sort_values(by='BF')[:-500]['W'], RALL_bayexpress.sort_values(by='BF')[:-500]['BF'],\n",
    "            \n",
    "c='blue', s=10, \n",
    "alpha=0.3, edgecolors='none')\n",
    "\n",
    "ax.set_xscale(\"log\", base=10)\n",
    "\n",
    "\n",
    "plt.show()"
   ]
  },
  {
   "cell_type": "code",
   "execution_count": null,
   "metadata": {},
   "outputs": [],
   "source": [
    "RALL_bayexpress.sort_values(by='W')"
   ]
  },
  {
   "cell_type": "code",
   "execution_count": null,
   "metadata": {},
   "outputs": [],
   "source": [
    "RALL_bayexpress.loc[RALL_bayexpress.BF > 1]"
   ]
  },
  {
   "cell_type": "code",
   "execution_count": null,
   "metadata": {},
   "outputs": [],
   "source": []
  }
 ],
 "metadata": {
  "kernelspec": {
   "display_name": "pythonbase",
   "language": "python",
   "name": "python3"
  },
  "language_info": {
   "codemirror_mode": {
    "name": "ipython",
    "version": 3
   },
   "file_extension": ".py",
   "mimetype": "text/x-python",
   "name": "python",
   "nbconvert_exporter": "python",
   "pygments_lexer": "ipython3",
   "version": "3.12.0"
  },
  "orig_nbformat": 4
 },
 "nbformat": 4,
 "nbformat_minor": 2
}
