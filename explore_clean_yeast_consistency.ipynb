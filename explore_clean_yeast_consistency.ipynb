{
 "cells": [
  {
   "cell_type": "markdown",
   "metadata": {},
   "source": [
    "# Y E A S T\n",
    "\n",
    "### 'fine replicates' and their consistency "
   ]
  },
  {
   "cell_type": "code",
   "execution_count": null,
   "metadata": {},
   "outputs": [],
   "source": [
    "import pandas as pd\n",
    "import numpy as np\n",
    "import scipy.special as sc\n",
    "import matplotlib.pyplot as plt\n",
    "from scipy.stats import entropy\n",
    "import matplotlib as m\n",
    "from sklearn.feature_selection import f_regression, mutual_info_regression\n",
    "\n",
    "plt.rcParams[\"figure.dpi\"] = 300"
   ]
  },
  {
   "cell_type": "code",
   "execution_count": null,
   "metadata": {},
   "outputs": [],
   "source": [
    "# basic bayexpress functions\n",
    "\n",
    "# calculating Bayes factors\n",
    "def get_BF(N_1, n_1, N_2, n_2):\n",
    "\n",
    "    return (sc.betaln( u_1 + n_1, u_2 + N_1 - n_1) + sc.betaln( u_1 + n_2, u_2 + N_2 - n_2) - sc.betaln( u_1 + n_1 + n_2, u_2 + N_1 - n_1 + N_2 - n_2)) / np.log(10) \n",
    "\n",
    "# ratio of expression \n",
    "# calculating log fold change\n",
    "def get_FC(N_1, n_1, N_2, n_2):\n",
    "    rate_1 = (u_1 + n_1) / (u_2 + N_1 - n_1)\n",
    "    rate_2 = (u_1 + n_2) / (u_2 + N_2 - n_2)\n",
    "\n",
    "    return np.log2(rate_2 / rate_1)\n",
    "\n",
    "# calculating q (following Laplace's rule of succession)\n",
    "def get_q(n, N):\n",
    "    return (n+1)/(N+2)\n",
    "\n",
    "# setting the priors to flat prios\n",
    "u_1 = 1\n",
    "u_2 = 1\n",
    "\n",
    "\n",
    "# calculating Bayes factors for consistency checks\n",
    "\n",
    "def get_BF_IC(data):\n",
    "    # this range is irrelevant if we want to do all \n",
    "    k = len(data.columns)\n",
    "\n",
    "    evidence2 = np.full(len(data), 0)\n",
    "\n",
    "    # iterating over j until k\n",
    "    for col in data.columns[1:k]: \n",
    "        n_j = data[col]\n",
    "        # print(n_j, 'n_j')\n",
    "        N_j = sum(data[col])\n",
    "        # print(N_j, 'N_j')\n",
    "        evidence2 = evidence2 + sc.betaln(u_1 + n_j, u_2 + N_j - n_j)\n",
    "\n",
    "    N = sum(data.iloc[:,1:k].sum(axis=0, numeric_only=True))\n",
    "    n_i = data.iloc[:,1:k].sum(axis=1, numeric_only=True)\n",
    "\n",
    "    # print(n_i, 'n_i')\n",
    "    # print(N, 'N')\n",
    "\n",
    "    evidence1 = sc.betaln( u_1 + n_i, u_2 + N - n_i)\n",
    "\n",
    "    return (evidence2 - evidence1) / np.log(10) \n"
   ]
  },
  {
   "cell_type": "code",
   "execution_count": null,
   "metadata": {},
   "outputs": [],
   "source": [
    "# exploring 'cumulative' BF\n",
    "\n",
    "def get_cumu_BF(data):\n",
    "    out_data = pd.DataFrame({})\n",
    "    for k in range(3,len(data.columns)+1):\n",
    "\n",
    "        evidence2 = np.full(len(data), 0)\n",
    "\n",
    "        # iterating over j until k\n",
    "        for col in data.columns[1:k]: \n",
    "            n_j = data[col]\n",
    "            # print(n_j, 'n_j')\n",
    "            N_j = sum(data[col])\n",
    "            # print(N_j, 'N_j')\n",
    "            evidence2 = evidence2 + sc.betaln(u_1 + n_j, u_2 + N_j - n_j)\n",
    "\n",
    "        N = sum(data.iloc[:,1:k].sum(axis=0, numeric_only=True))\n",
    "        n_i = data.iloc[:,1:k].sum(axis=1, numeric_only=True)\n",
    "\n",
    "        # print(n_i, 'n_i')\n",
    "        # print(N, 'N')\n",
    "\n",
    "        evidence1 = sc.betaln( u_1 + n_i, u_2 + N - n_i)\n",
    "        \n",
    "        out_data[f'{k-1}'] = (evidence2 - evidence1) / np.log(10) \n",
    "\n",
    "    return out_data\n"
   ]
  },
  {
   "cell_type": "markdown",
   "metadata": {},
   "source": [
    "### CONSISTENCY TESTS"
   ]
  },
  {
   "cell_type": "code",
   "execution_count": null,
   "metadata": {},
   "outputs": [],
   "source": [
    "WT_yeast = pd.read_csv('WT_yeast.csv', index_col=0)\n",
    "Snf2_yeast = pd.read_csv('Snf2_yeast.csv', index_col=0)\n",
    "\n",
    "display(WT_yeast)\n",
    "display(Snf2_yeast)"
   ]
  },
  {
   "cell_type": "code",
   "execution_count": null,
   "metadata": {},
   "outputs": [],
   "source": [
    "# calculating 'cumulatative' BF_IC\n",
    "\n",
    "WT_cumu = get_cumu_BF(WT_yeast)\n",
    "\n",
    "display(WT_cumu)\n",
    "\n",
    "Snf2_cumu = get_cumu_BF(Snf2_yeast)\n",
    "\n",
    "\n",
    "display(Snf2_cumu)"
   ]
  },
  {
   "cell_type": "code",
   "execution_count": null,
   "metadata": {},
   "outputs": [],
   "source": [
    "# this is the general idea\n",
    "\n",
    "# finding the number of genes with BF_IC > 1 while increasing number of reps\n",
    "series = (WT_cumu.iloc[:,1:] > 1).sum()\n",
    "\n",
    "series.plot(xlabel='# replicates, # models', ylabel='# BF_IC > 1', xticks=range(2,len(series),4), legend=False)\n",
    "\n",
    "\n",
    "plt.show()"
   ]
  },
  {
   "cell_type": "code",
   "execution_count": null,
   "metadata": {},
   "outputs": [],
   "source": [
    "# this is the general idea\n",
    "\n",
    "# finding the number of genes with nBF > 1 while increasing number of reps\n",
    "series = (Snf2_cumu.iloc[:,1:] > 1).sum()\n",
    "\n",
    "\n",
    "series.plot(xlabel='# replicates, # models', ylabel='# Bayes factors > 1', xticks=range(2,len(series),4), legend=False)\n",
    "\n",
    "plt.show()"
   ]
  },
  {
   "cell_type": "code",
   "execution_count": null,
   "metadata": {},
   "outputs": [],
   "source": [
    "# then bootstrapping this idea\n",
    "# 20 times for figure\n",
    "\n",
    "WT_cons_it = pd.DataFrame({})\n",
    "# let's do this with more iterations\n",
    "# WT_AOTP = []\n",
    "\n",
    "for i in range(20):\n",
    "\n",
    "    col_order = np.array(WT_yeast.columns[1:])\n",
    "    np.random.shuffle(col_order)\n",
    "    # print(col_order)\n",
    "\n",
    "    cumu_BF_IC = get_cumu_BF(WT_yeast[col_order])\n",
    "    # WT_AOTP.append(WT_yeast.loc[(cumu_BF_IC).iloc[:,-1] > 1].index)\n",
    "\n",
    "    WT_cons_it[f'{i+1}'] = ((cumu_BF_IC) > 1).sum()\n",
    "\n",
    "display(WT_cons_it)\n",
    "\n",
    "display(WT_cons_it.plot(legend=False, grid=True,\n",
    "                        xlabel='# replicates',\n",
    "                        ylabel='# BF_IC > 1 of 7126 genes'\n",
    "                        ))"
   ]
  },
  {
   "cell_type": "code",
   "execution_count": null,
   "metadata": {},
   "outputs": [],
   "source": [
    "# then bootstrapping this idea\n",
    "# 100 times for identifying genes\n",
    "\n",
    "WT_cons_it = pd.DataFrame({})\n",
    "WT_AOTP = []\n",
    "\n",
    "for i in range(100):\n",
    "\n",
    "    col_order = np.array(WT_yeast.columns[1:])\n",
    "    np.random.shuffle(col_order)\n",
    "    # print(col_order)\n",
    "\n",
    "    cumu_BF_IC = get_cumu_BF(WT_yeast[col_order])\n",
    "    WT_AOTP.append(WT_yeast.loc[(cumu_BF_IC).iloc[:,-1] > 1].index)\n",
    "\n",
    "    WT_cons_it[f'{i+1}'] = ((cumu_BF_IC) > 1).sum()\n",
    "\n",
    "display(WT_cons_it)\n",
    "\n",
    "display(WT_cons_it.plot(legend=False, grid=True,\n",
    "                        xlabel='# replicates',\n",
    "                        ylabel='# BF_IC > 1 of 7126 genes'\n",
    "                        ))"
   ]
  },
  {
   "cell_type": "code",
   "execution_count": null,
   "metadata": {},
   "outputs": [],
   "source": [
    "# again, bootstrapping this idea but on the mutant\n",
    "\n",
    "Snf2_cons_it = pd.DataFrame({})\n",
    "# Snf2_AOTP = []\n",
    "# lets do this with more iterations\n",
    "\n",
    "for i in range(20):\n",
    "\n",
    "    col_order = np.array(Snf2_yeast.columns[1:])\n",
    "    np.random.shuffle(col_order)\n",
    "    # print(col_order)\n",
    "\n",
    "    cumu_BF_IC = get_cumu_BF(Snf2_yeast[col_order])\n",
    "    # Snf2_AOTP.append(Snf2_yeast.loc[(cumu_BF_IC).iloc[:,-1] > 1].index)\n",
    "\n",
    "    Snf2_cons_it[f'{i+1}'] = ((cumu_BF_IC) > 1).sum()\n",
    "\n",
    "display(Snf2_cons_it)\n",
    "\n",
    "display(Snf2_cons_it.plot(legend=False, grid=True,\n",
    "                        xlabel='# replicates',\n",
    "                        ylabel='# BF_IC > 1 of 7126 genes'\n",
    "                        ))"
   ]
  },
  {
   "cell_type": "code",
   "execution_count": null,
   "metadata": {},
   "outputs": [],
   "source": [
    "# again, bootstrapping this idea but on the mutant\n",
    "\n",
    "Snf2_cons_it = pd.DataFrame({})\n",
    "Snf2_AOTP = []\n",
    "\n",
    "for i in range(100):\n",
    "\n",
    "    col_order = np.array(Snf2_yeast.columns[1:])\n",
    "    np.random.shuffle(col_order)\n",
    "    # print(col_order)\n",
    "\n",
    "    cumu_BF_IC = get_cumu_BF(Snf2_yeast[col_order])\n",
    "    Snf2_AOTP.append(Snf2_yeast.loc[(cumu_BF_IC).iloc[:,-1] > 1].index)\n",
    "\n",
    "    Snf2_cons_it[f'{i+1}'] = ((cumu_BF_IC) > 1).sum()\n",
    "\n",
    "display(Snf2_cons_it)\n",
    "\n",
    "display(Snf2_cons_it.plot(legend=False, grid=True,\n",
    "                        xlabel='# replicates',\n",
    "                        ylabel='# BF_IC > 1 of 7126 genes'\n",
    "                        ))"
   ]
  },
  {
   "cell_type": "code",
   "execution_count": null,
   "metadata": {},
   "outputs": [],
   "source": [
    "# Checking for overlaps in Snf2_AOTP\n",
    "\n",
    "# Convert each inner list to a set\n",
    "sets = [set(lst) for lst in Snf2_AOTP]\n",
    "\n",
    "print('# genes with BF_IC > 1 for all replicates throughout the iterations')\n",
    "for lst in Snf2_AOTP:\n",
    "    print(len(lst))\n",
    "\n",
    "# Find the intersection of all sets\n",
    "Snf2_overlap = set.intersection(*sets)\n",
    "\n",
    "# Print the Snf2_overlap\n",
    "print('overlap: ', len(Snf2_overlap))\n",
    "# print(Snf2_overlap)\n",
    "\n",
    "\n",
    "# Find the union of all sets\n",
    "Snf2_union = set.union(*sets)\n",
    "\n",
    "# Print the union\n",
    "# print(Snf2_union)\n",
    "print('union: ', len(Snf2_union))\n"
   ]
  },
  {
   "cell_type": "code",
   "execution_count": null,
   "metadata": {},
   "outputs": [],
   "source": [
    "# Checking for overlaps in WT_AOTP\n",
    "\n",
    "# Convert each inner list to a set\n",
    "sets = [set(lst) for lst in WT_AOTP]\n",
    "\n",
    "print('# genes with BF_IC > 1 for all replicates throughout the iterations')\n",
    "for lst in WT_AOTP:\n",
    "    print(len(lst))\n",
    "\n",
    "# Find the intersection of all sets\n",
    "WT_overlap = set.intersection(*sets)\n",
    "\n",
    "# Print the WT_overlap\n",
    "print('overlap: ', len(WT_overlap))\n",
    "# print(WT_overlap)\n",
    "\n",
    "\n",
    "# Find the union of all sets\n",
    "WT_union = set.union(*sets)\n",
    "\n",
    "# Print the union\n",
    "# print(WT_union)\n",
    "print('union: ', len(WT_union))\n"
   ]
  },
  {
   "cell_type": "code",
   "execution_count": null,
   "metadata": {},
   "outputs": [],
   "source": [
    "RALL_bayexpress = pd.read_csv('DGE_results/RALL_bayexpress.csv').iloc[:,1:].rename(columns={'genes': \"locus_name\"})\n",
    "\n",
    "RALL_bayexpress"
   ]
  },
  {
   "cell_type": "code",
   "execution_count": null,
   "metadata": {},
   "outputs": [],
   "source": [
    "# let's see what those AOTP genes are\n",
    "\n",
    "display(RALL_bayexpress.iloc[list(WT_union)])\n",
    "display(RALL_bayexpress.iloc[list(Snf2_union)])\n",
    "\n",
    "# hmm interesting"
   ]
  },
  {
   "cell_type": "code",
   "execution_count": null,
   "metadata": {},
   "outputs": [],
   "source": [
    "# let's see what AOTP genes have BF > 1\n",
    "\n",
    "display(RALL_bayexpress.iloc[(list(WT_union))].loc[RALL_bayexpress.BF > 1])\n",
    "display(RALL_bayexpress.iloc[list(Snf2_union)].loc[RALL_bayexpress.BF > 1])\n",
    "\n",
    "# hmm interesting"
   ]
  },
  {
   "cell_type": "code",
   "execution_count": null,
   "metadata": {},
   "outputs": [],
   "source": [
    "# calculating average <q> for each additional replicate for the plots\n",
    "\n",
    "\n",
    "def get_avq(data):\n",
    "    output = pd.DataFrame({'genes': data.genes})\n",
    "    for k in range(2,len(data.columns)):\n",
    "\n",
    "        N = sum(data.iloc[:,1:k].sum(axis=0, numeric_only=True))\n",
    "\n",
    "        n_i = data.iloc[:,1:k].sum(axis=1, numeric_only=True)\n",
    "        \n",
    "        output[f'{k-1}'] = (n_i + 1) / (N+2)\n",
    "\n",
    "    return output\n",
    "\n",
    "\n",
    "# WT_yeast = get_BF(WT_yeast)\n",
    "\n",
    "# display(WT_yeast)\n",
    "\n",
    "# Snf2_yeast = get_BF(Snf2_yeast)\n",
    "\n",
    "# display(Snf2_yeast)\n",
    "\n",
    "WT_yeast_avq = get_avq(WT_yeast)\n",
    "\n",
    "display(WT_yeast_avq)\n",
    "\n",
    "\n",
    "Snf2_yeast_avq = get_avq(Snf2_yeast)\n",
    "\n",
    "display(Snf2_yeast_avq)\n",
    "\n",
    "\n",
    "WT_yeast_avq.to_csv('WT_yeast_avq.csv')\n",
    "Snf2_yeast_avq.to_csv('Snf2_yeast_avq.csv')"
   ]
  },
  {
   "cell_type": "code",
   "execution_count": null,
   "metadata": {},
   "outputs": [],
   "source": [
    "RALL_bayexpress['BF_IC_WT'] = get_BF_IC(WT_yeast.iloc[:,1:])\n",
    "RALL_bayexpress['AOTP_WT'] = RALL_bayexpress.index.isin(WT_union)\n",
    "\n",
    "RALL_bayexpress['BF_IC_Snf2'] = get_BF_IC(Snf2_yeast.iloc[:,1:])\n",
    "RALL_bayexpress['AOTP_Snf2'] = RALL_bayexpress.index.isin(Snf2_union)\n",
    "\n",
    "display(RALL_bayexpress)\n",
    "RALL_bayexpress.to_csv('RALL_bayexpress.csv')"
   ]
  },
  {
   "cell_type": "markdown",
   "metadata": {},
   "source": [
    "# How many genes would be marked as not consistent?"
   ]
  },
  {
   "cell_type": "code",
   "execution_count": null,
   "metadata": {},
   "outputs": [],
   "source": [
    "display((RALL_bayexpress.BF_IC_WT > 1).describe())\n",
    "\n",
    "display((RALL_bayexpress.BF_IC_Snf2 > 1).describe())\n",
    "\n",
    "display(((RALL_bayexpress.BF_IC_WT > 1) & (RALL_bayexpress.BF_IC_Snf2 > 1)).describe())\n",
    "\n",
    "display(((RALL_bayexpress.BF_IC_WT > 1) | (RALL_bayexpress.BF_IC_Snf2 > 1)).describe())\n",
    "\n"
   ]
  },
  {
   "cell_type": "code",
   "execution_count": null,
   "metadata": {},
   "outputs": [],
   "source": [
    "WT_yeast_q = pd.DataFrame({})\n",
    "\n",
    "for col in WT_yeast.columns[1:43]:\n",
    "\n",
    "    WT_yeast_q[col+'_q'] = (WT_yeast[col]+1) / (sum(WT_yeast[col])+2)\n",
    "\n",
    "WT_yeast_q.to_csv('WT_yeast_q.csv')\n",
    "\n",
    "WT_yeast_q"
   ]
  },
  {
   "cell_type": "code",
   "execution_count": null,
   "metadata": {},
   "outputs": [],
   "source": [
    "Snf2_yeast_q = pd.DataFrame({})\n",
    "\n",
    "for col in Snf2_yeast.columns[1:43]:\n",
    "\n",
    "    Snf2_yeast_q[col+'_q'] = (Snf2_yeast[col]+1) / (sum(Snf2_yeast[col])+2)\n",
    "\n",
    "Snf2_yeast_q.to_csv('Snf2_yeast_q.csv')\n",
    "\n",
    "Snf2_yeast_q"
   ]
  },
  {
   "cell_type": "code",
   "execution_count": null,
   "metadata": {},
   "outputs": [],
   "source": [
    "RALL_bayexpress"
   ]
  },
  {
   "cell_type": "code",
   "execution_count": null,
   "metadata": {},
   "outputs": [],
   "source": [
    "# WT union AOTP genes, examples\n",
    "\n",
    "display(WT_yeast.iloc[list(WT_union)][:5])\n",
    "display(Snf2_yeast.iloc[list(WT_union)][:5])\n",
    "\n",
    "print(list(WT_yeast.iloc[list(WT_union)][:5].genes))\n"
   ]
  },
  {
   "cell_type": "code",
   "execution_count": null,
   "metadata": {},
   "outputs": [],
   "source": [
    "display(list(RALL_bayexpress.iloc[(list(WT_union))].loc[RALL_bayexpress.BF > 1].sort_values(by='BF')[:5].locus_name))"
   ]
  },
  {
   "cell_type": "code",
   "execution_count": null,
   "metadata": {},
   "outputs": [],
   "source": [
    "# WT union AOTP genes, examples\n",
    "\n",
    "# let's see what AOTP genes have BF > 1\n",
    "\n",
    "display(RALL_bayexpress.iloc[(list(WT_union))].loc[RALL_bayexpress.BF > 1].sort_values(by='BF')[:5])\n",
    "\n",
    "# hmm interesting\n",
    "\n",
    "display(WT_yeast.iloc[RALL_bayexpress.iloc[(list(WT_union))].loc[RALL_bayexpress.BF > 1].sort_values(by='BF')[:5].index])\n",
    "display(Snf2_yeast.iloc[RALL_bayexpress.iloc[(list(WT_union))].loc[RALL_bayexpress.BF > 1].sort_values(by='BF')[:5].index])\n",
    "\n",
    "display(list(RALL_bayexpress.iloc[(list(WT_union))].loc[RALL_bayexpress.BF > 1].sort_values(by='BF')[:5].locus_name))\n"
   ]
  },
  {
   "cell_type": "code",
   "execution_count": null,
   "metadata": {},
   "outputs": [],
   "source": [
    "# WT union AOTP genes, examples\n",
    "\n",
    "# let's see what AOTP genes have BF > 1\n",
    "\n",
    "display(RALL_bayexpress.iloc[(list(WT_union))].loc[RALL_bayexpress.BF > 1].sort_values(by='BF')[-5:])\n",
    "\n",
    "# hmm interesting\n",
    "\n",
    "display(WT_yeast.iloc[RALL_bayexpress.iloc[(list(WT_union))].loc[RALL_bayexpress.BF > 1].sort_values(by='BF')[-5:].index])\n",
    "display(Snf2_yeast.iloc[RALL_bayexpress.iloc[(list(WT_union))].loc[RALL_bayexpress.BF > 1].sort_values(by='BF')[-5:].index])\n",
    "\n",
    "display(list(RALL_bayexpress.iloc[(list(WT_union))].loc[RALL_bayexpress.BF > 1].sort_values(by='BF')[-5:].locus_name))\n"
   ]
  },
  {
   "cell_type": "code",
   "execution_count": null,
   "metadata": {},
   "outputs": [],
   "source": [
    "# Snf2 union AOTP genes, examples\n",
    "\n",
    "display(WT_yeast.iloc[list(Snf2_union)][:5])\n",
    "display(Snf2_yeast.iloc[list(Snf2_union)][:5])\n",
    "\n",
    "print(list(Snf2_yeast.iloc[list(Snf2_union)][:5].genes))\n"
   ]
  },
  {
   "cell_type": "code",
   "execution_count": null,
   "metadata": {},
   "outputs": [],
   "source": [
    "# exporting this table to compare with WT-WT control experiments\n",
    "\n",
    "RALL_bayexpress.iloc[(list(WT_union))].to_csv('RALL_bayexpress_AOTP_WT_union.csv')"
   ]
  },
  {
   "cell_type": "code",
   "execution_count": null,
   "metadata": {},
   "outputs": [],
   "source": []
  }
 ],
 "metadata": {
  "kernelspec": {
   "display_name": "pythonbase",
   "language": "python",
   "name": "python3"
  },
  "language_info": {
   "codemirror_mode": {
    "name": "ipython",
    "version": 3
   },
   "file_extension": ".py",
   "mimetype": "text/x-python",
   "name": "python",
   "nbconvert_exporter": "python",
   "pygments_lexer": "ipython3",
   "version": "3.12.0"
  },
  "orig_nbformat": 4
 },
 "nbformat": 4,
 "nbformat_minor": 2
}
